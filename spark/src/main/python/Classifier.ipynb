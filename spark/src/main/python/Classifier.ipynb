{
 "cells": [
  {
   "cell_type": "markdown",
   "metadata": {
    "slideshow": {
     "slide_type": "-"
    }
   },
   "source": [
    "# Building a classifier\n"
   ]
  },
  {
   "cell_type": "code",
   "execution_count": 1,
   "metadata": {},
   "outputs": [],
   "source": [
    "import os\n",
    "DATA_DIR = '../resources/data/stumbleupon'\n",
    "raw_path = os.path.abspath(DATA_DIR + '/train.tsv')"
   ]
  },
  {
   "cell_type": "code",
   "execution_count": 2,
   "metadata": {},
   "outputs": [],
   "source": [
    "from pyspark.sql.types import StructType, StructField, StringType, DoubleType, IntegerType\n",
    "\n",
    "data_schema = StructType([\n",
    "    StructField(\"url\", StringType(), True),\n",
    "    StructField(\"urlid\", StringType(), True),\n",
    "    StructField(\"boilerplate\", StringType(), True),\n",
    "    StructField(\"alchemy_category\", StringType(), True),\n",
    "    StructField(\"alchemy_category_score\", DoubleType(), True),\n",
    "    StructField(\"avglinksize\", DoubleType(), True),\n",
    "    StructField(\"commonlinkratio_1\", DoubleType(), True),\n",
    "    StructField(\"commonlinkratio_2\", DoubleType(), True),\n",
    "    StructField(\"commonlinkratio_3\", DoubleType(), True),\n",
    "    StructField(\"commonlinkratio_4\", DoubleType(), True),\n",
    "    StructField(\"compression_ratio\", DoubleType(), True),\n",
    "    StructField(\"embed_ratio\", DoubleType(), True),\n",
    "    StructField(\"framebased\", DoubleType(), True),\n",
    "    StructField(\"frameTagRatio\", DoubleType(), True),\n",
    "    StructField(\"hasDomainLink\", DoubleType(), True),\n",
    "    StructField(\"html_ratio\", DoubleType(), True),\n",
    "    StructField(\"image_ratio\", DoubleType(), True),\n",
    "    StructField(\"is_news\", DoubleType(), True),\n",
    "    StructField(\"lengthyLinkDomain\", DoubleType(), True),\n",
    "    StructField(\"linkwordscore\", DoubleType(), True),\n",
    "    StructField(\"news_front_page\", DoubleType(), True),\n",
    "    StructField(\"non_markup_alphanum_characters\", DoubleType(), True),\n",
    "    StructField(\"numberOfLinks\", DoubleType(), True),\n",
    "    StructField(\"numwords_in_url\", DoubleType(), True),\n",
    "    StructField(\"parametrizedLinkRatio\", DoubleType(), True),\n",
    "    StructField(\"spelling_errors_ratio\", DoubleType(), True),\n",
    "    StructField(\"label\", IntegerType(), True)])\n"
   ]
  },
  {
   "cell_type": "code",
   "execution_count": 3,
   "metadata": {},
   "outputs": [],
   "source": [
    "rawDf = spark.read.option(\"delimiter\",\"\\t\").option(\"header\", True) \\\n",
    "    .csv('file://' + raw_path, schema = data_schema) \\\n",
    "    .na.fill(0.0)\n",
    "\n",
    "split = 0.7\n",
    "(trainingDf, testDf) = rawDf.randomSplit([split, 1-split])"
   ]
  },
  {
   "cell_type": "markdown",
   "metadata": {},
   "source": [
    "## Transformations"
   ]
  },
  {
   "cell_type": "code",
   "execution_count": 4,
   "metadata": {},
   "outputs": [],
   "source": [
    "excluded_cols = ['url', 'urlid', 'boilerplate', 'alchemy_category', 'alchemy_category_score', 'label']\n",
    "feature_cols = [item for item in rawDf.columns if item not in excluded_cols]\n",
    "\n",
    "# Create a features column\n",
    "from pyspark.ml.feature import VectorAssembler\n",
    "vec_assembler = VectorAssembler(inputCols = feature_cols, outputCol=\"features\")\n",
    "\n",
    "# Create a Logistic Regresion model\n",
    "from pyspark.ml.classification import LogisticRegression\n",
    "lr = LogisticRegression(maxIter=10, regParam=0.3, elasticNetParam=0.0, featuresCol='features', labelCol='label')\n",
    "lr2 = LogisticRegression(maxIter=10, regParam=0.05, elasticNetParam=0.0, featuresCol='features', labelCol='label')\n",
    "\n",
    "# Create a liner SVM model\n",
    "from pyspark.ml.classification import LinearSVC\n",
    "svm = LinearSVC(maxIter=10, regParam=0.1)\n",
    "\n",
    "# Create a Naive Bayes model\n",
    "from pyspark.ml.classification import NaiveBayes\n",
    "nb = NaiveBayes(smoothing=1.0, modelType=\"multinomial\")\n",
    "\n",
    "# NB doesn't accept negative features\n",
    "def relu(val):\n",
    "    return 0.0 if val < 0 else val\n",
    "\n",
    "from pyspark.sql import functions as f\n",
    "relu_udf = f.udf(lambda z: relu(z), DoubleType())\n",
    "\n",
    "trainReLUDf = trainingDf\n",
    "testReLUDf = testDf\n",
    "for c in feature_cols:\n",
    "    trainReLUDf = trainReLUDf.withColumn(c, relu_udf(f.col(c)))\n",
    "    testReLUDf = testReLUDf.withColumn(c, relu_udf(f.col(c)))"
   ]
  },
  {
   "cell_type": "markdown",
   "metadata": {},
   "source": [
    "## Training"
   ]
  },
  {
   "cell_type": "code",
   "execution_count": 5,
   "metadata": {},
   "outputs": [],
   "source": [
    "# Doing it Step by Step\n",
    "\n",
    "# Vector assembling\n",
    "trainDfWithFeatures = vec_assembler.transform(trainingDf)\n",
    "testDfWithFeatures = vec_assembler.transform(testDf)\n",
    "\n",
    "trainDFWithNBFeatures = vec_assembler.transform(trainReLUDf)\n",
    "testDFWithNBFeatures = vec_assembler.transform(testReLUDf)\n",
    "\n",
    "# Training LR\n",
    "lrModel = lr.fit(trainDfWithFeatures)\n",
    "\n",
    "# Training SVM\n",
    "svmModel = svm.fit(trainDfWithFeatures)\n",
    "\n",
    "# Trainnig NB\n",
    "nbModel = nb.fit(trainDFWithNBFeatures)"
   ]
  },
  {
   "cell_type": "code",
   "execution_count": 6,
   "metadata": {},
   "outputs": [],
   "source": [
    "# Alternative approach using pipelines\n",
    "from pyspark.ml import Pipeline\n",
    "pipeline = Pipeline(stages=[vec_assembler, lr2])\n",
    "pipelineModel = pipeline.fit(trainingDf)"
   ]
  },
  {
   "cell_type": "markdown",
   "metadata": {},
   "source": [
    "## Evaluating Single Model (Logistic Regresion)\n",
    "\n",
    "1. True Positive (TP) - label is positive and prediction is also positive\n",
    "2. True Negative (TN) - label is negative and prediction is also negative\n",
    "3. False Positive (FP) - label is negative but prediction is positive\n",
    "4. False Negative (FN) - label is positive but prediction is negative\n",
    "\n",
    "|  Measure                    |        Description            |         Calculation            | Examples |\n",
    "|-----------------------------|-------------------------------|--------------------------------|----------|\n",
    "| **Accuracy**                | Bad for unbalanced dataset    |(TN + TP) / (TN + TP + FN + FP) | - |\n",
    "| **Precision**               | 100% precision => captured **all TP** with zero FP     | TP / (TP + FP)                 | Spam detection (How many FPs did we catch) |\n",
    "| **Recall/Sensitivity (TPR)**| 100% sensitivity => captured **all TP** with zero FN <br>(**can potentially have many FP**) | TP / (TP + FN)                 | Fraud detection (How many FNs did we miss) |\n",
    "| **Specificity (1-FPR)**     | 100% specificity => captured **all TN** with zero FP      | TN / (TN + FP)                 | - |\n",
    "| **FPR**                     | False Positive Rate  | FP / (TN + FP)                 | - |\n",
    "| **F measure**               | Harmonic mean of precision and recall | 2 \\* (precision \\* recall) / (precision + recall) | - |\n",
    "| **ROC AUC**                 | AUC of TPR (y) vs FPR (x)     |       -           | - |\n",
    "\n",
    "| AUC ROC | Point Measure (e.g. F1) | Description  |\n",
    "|---------|---------------|---------|\n",
    "| Low     | Low           |  Currently bad, and even fitting a threshold will not change it                  |\n",
    "| Low     | High          |  Currently decent, however for many other values of threshold - it is pretty bad |\n",
    "| High    | Low           |  Currently bad, however you can find the threshold for which its score is actually pretty decent|\n",
    "| High    | High          |  Currently decent, and for many other values of threshold it would do the same |\n",
    "\n",
    "* When you have a data imbalance, always use F1-score because ROC averages over all possible thresholds!\n",
    "* Raising the classification **threshold**\n",
    "\n",
    "    * (Probably) **Precision** increased (FPs reduced)\n",
    "    * (Definitely) **Recall** decreased/constant (TPs reduced, FNs increased, or remain as-is)\n",
    "\n",
    "Taken from \n",
    "* https://stackoverflow.com/a/52892413/3500885\n",
    "* https://stackoverflow.com/a/34698935/3500885"
   ]
  },
  {
   "cell_type": "code",
   "execution_count": 7,
   "metadata": {},
   "outputs": [
    {
     "name": "stdout",
     "output_type": "stream",
     "text": [
      "objectiveHistory/ loss:\n",
      "0.5643495366101975\n",
      "0.4984167755310242\n",
      "0.4939739448418713\n",
      "0.46881028558172516\n",
      "0.4521651440827415\n",
      "0.42704756622410284\n",
      "0.42609555687176315\n",
      "0.42191735609851727\n",
      "0.42182573590787453\n",
      "0.42177514340155625\n",
      "0.4217745256866937\n",
      "+-------------------+-------------------+------------------+--------------------+\n",
      "|          threshold|          F-Measure|         precision|              recall|\n",
      "+-------------------+-------------------+------------------+--------------------+\n",
      "| 0.5222545751816847| 0.3013100436681223|0.5178236397748592| 0.21247113163972287|\n",
      "| 0.5720923757245537|  0.193138500635324|0.5527272727272727|  0.1170130869899923|\n",
      "| 0.5957419369422441|0.14943295530353568|              0.56| 0.08622016936104696|\n",
      "| 0.4716209214243897| 0.4332291201429209|0.5159574468085106| 0.37336412625096227|\n",
      "| 0.9281288971586317|0.02719033232628399|              0.72|0.013856812933025405|\n",
      "| 0.3859997284269747| 0.6027308192457738|0.5216657287563309|  0.7136258660508084|\n",
      "| 0.5089864703453395|0.33954451345755693|0.5181674565560821|  0.2525019245573518|\n",
      "| 0.3812237138609691| 0.6116442738323736|0.5232621784345922|  0.7359507313317937|\n",
      "| 0.5185365964296699| 0.3091007000538503| 0.514336917562724| 0.22093918398768284|\n",
      "|0.42431975458818383| 0.5323901712583768|0.5155010814708003|   0.550423402617398|\n",
      "| 0.5048928108577709|0.35258048032703115|0.5243161094224924| 0.26558891454965355|\n",
      "| 0.5515746586443068|0.23894862604540024|0.5333333333333333| 0.15396458814472672|\n",
      "| 0.6072696256680402|0.12483039348710989|0.5257142857142857| 0.07082371054657428|\n",
      "| 0.3103244304813013| 0.6625560538116593|0.5209343323049802|  0.9099307159353349|\n",
      "|0.34201639013695784| 0.6468685680682152|0.5233111322549953|  0.8468052347959969|\n",
      "| 0.4224996992471589| 0.5348579859830321|0.5134560906515581|  0.5581216320246344|\n",
      "|0.29535126000925055| 0.6664836673071645|0.5179180887372014|  0.9345650500384911|\n",
      "| 0.4205411794501723| 0.5387426900584796|0.5128740431454419|   0.567359507313318|\n",
      "|0.41583361297830196| 0.5491744436468056|0.5144586415601883|  0.5889145496535797|\n",
      "| 0.3775405610621384| 0.6144081244049507|0.5226781857451404|  0.7451886066204773|\n",
      "+-------------------+-------------------+------------------+--------------------+\n",
      "only showing top 20 rows\n",
      "\n",
      "bestThreshold: 0.2482166579282129\n",
      "roc\n",
      "+--------------------+--------------------+\n",
      "|                 FPR|                 TPR|\n",
      "+--------------------+--------------------+\n",
      "|                 0.0|                 0.0|\n",
      "|0.001813941435605079|0.013856812933025405|\n",
      "|0.005182689816014512|0.023094688221709007|\n",
      "|0.008033169214822493| 0.03387220939183987|\n",
      "|0.010365379632029024|0.046189376443418015|\n",
      "|0.014770665975641358| 0.05234795996920708|\n",
      "| 0.01891681782845297|0.059276366435719784|\n",
      "|0.021508162736460223| 0.07082371054657428|\n",
      "| 0.02280383519046385| 0.08622016936104696|\n",
      "|0.026172583570873282| 0.09545804464973057|\n",
      "| 0.02824565949727909| 0.10854503464203233|\n",
      "|0.031873542368489244|  0.1170130869899923|\n",
      "|0.034983156258097954| 0.12702078521939955|\n",
      "| 0.03809277014770666| 0.13702848344880678|\n",
      "|0.041461518528116095|  0.1462663587374904|\n",
      "|0.045348535890126974| 0.15396458814472672|\n",
      "| 0.04923555325213786| 0.16166281755196305|\n",
      "| 0.05260430163254729| 0.17090069284064666|\n",
      "| 0.05623218450375745| 0.17936874518860663|\n",
      "|0.057009587976159626| 0.18321785989222478|\n",
      "+--------------------+--------------------+\n",
      "only showing top 20 rows\n",
      "\n",
      "areaUnderROC: 0.8437454928253261\n"
     ]
    },
    {
     "data": {
      "text/plain": [
       "LogisticRegression_b89f8918d29b"
      ]
     },
     "execution_count": 7,
     "metadata": {},
     "output_type": "execute_result"
    }
   ],
   "source": [
    "# Extract the summary from the returned LogisticRegressionModel instance trained\n",
    "trainingSummary = lrModel.summary\n",
    "\n",
    "print(\"objectiveHistory/ loss:\")\n",
    "for objective in trainingSummary.objectiveHistory:\n",
    "    print(objective)\n",
    "\n",
    "trainingSummary.fMeasureByThreshold \\\n",
    "    .join(trainingSummary.precisionByThreshold, 'threshold', 'left') \\\n",
    "    .join(trainingSummary.recallByThreshold, 'threshold', 'left') \\\n",
    "    .show()\n",
    "\n",
    "# Finding best threshold\n",
    "fMeasure = trainingSummary.fMeasureByThreshold\n",
    "maxFMeasure = fMeasure.groupBy().max('F-Measure').select('max(F-Measure)').head()\n",
    "bestThreshold = fMeasure.where(fMeasure['F-Measure'] == maxFMeasure['max(F-Measure)']) \\\n",
    "    .select('threshold').head()['threshold']\n",
    "print(\"bestThreshold: \" + str(bestThreshold))\n",
    "\n",
    "print(\"roc\")\n",
    "trainingSummary.roc.show()\n",
    "print(\"areaUnderROC: \" + str(trainingSummary.areaUnderROC))\n",
    "\n",
    "# Set the model threshold to maximize F-Measure\n",
    "lr.setThreshold(bestThreshold)"
   ]
  },
  {
   "cell_type": "markdown",
   "metadata": {},
   "source": [
    "## Evaluating Pipeline Model (Logistic Regresion)"
   ]
  },
  {
   "cell_type": "code",
   "execution_count": 8,
   "metadata": {},
   "outputs": [
    {
     "name": "stdout",
     "output_type": "stream",
     "text": [
      "+-------------------+-------------------+------------------+-------------------+\n",
      "|          threshold|          F-Measure|         precision|             recall|\n",
      "+-------------------+-------------------+------------------+-------------------+\n",
      "| 0.5011812270543475|  0.518800168990283|0.5749063670411985|  0.472671285604311|\n",
      "|0.45736058505713245| 0.5966174883051457|0.5601351351351351| 0.6381832178598922|\n",
      "| 0.4935050703497408|  0.533988533988534|0.5704286964129484| 0.5019245573518091|\n",
      "| 0.6377811603692645|0.21304067140090382|              0.66|0.12702078521939955|\n",
      "| 0.3327818203426228|  0.679622431982232| 0.531480677377334| 0.9422632794457275|\n",
      "+-------------------+-------------------+------------------+-------------------+\n",
      "only showing top 5 rows\n",
      "\n"
     ]
    },
    {
     "data": {
      "text/plain": [
       "0.5"
      ]
     },
     "execution_count": 8,
     "metadata": {},
     "output_type": "execute_result"
    }
   ],
   "source": [
    "# Extract the summary from the returned LogisticRegressionModel instance trained\n",
    "pipelineTrainingSummary = pipelineModel.stages[-1].summary\n",
    "\n",
    "# Change in regParam\n",
    "pipelineTrainingSummary.fMeasureByThreshold \\\n",
    "    .join(pipelineTrainingSummary.precisionByThreshold, 'threshold', 'left') \\\n",
    "    .join(pipelineTrainingSummary.recallByThreshold, 'threshold', 'left') \\\n",
    "    .show(5)\n",
    "\n",
    "# stages of pyspark.ml.Pipeline can be accessed via .getStages()\n",
    "# stages of pyspark.ml.PipelineModel can be accessed via .stages\n",
    "pipeline.getStages()[-1].getThreshold()"
   ]
  },
  {
   "cell_type": "code",
   "execution_count": 10,
   "metadata": {},
   "outputs": [
    {
     "data": {
      "image/png": "[encoded data removed]",
      "text/plain": [
       "<matplotlib.figure.Figure at 0x110d1f0f0>"
      ]
     },
     "metadata": {},
     "output_type": "display_data"
    }
   ],
   "source": [
    "# Plotting ROC curve\n",
    "import matplotlib.pyplot as plt\n",
    "plt.figure(figsize=(10,5))\n",
    "plt.subplot(1, 2, 1)\n",
    "plt.plot([0, 1], [0, 1], 'r--')\n",
    "plt.plot(trainingSummary.roc.select('FPR').collect(), trainingSummary.roc.select('TPR').collect())\n",
    "plt.title('0.3 reg')\n",
    "plt.xlabel('FPR (1-specificity)')\n",
    "plt.ylabel('TPR (sensitivity)')\n",
    "\n",
    "plt.subplot(1, 2, 2)\n",
    "plt.plot([0, 1], [0, 1], 'r--')\n",
    "plt.plot(pipelineTrainingSummary.roc.select('FPR').collect(), pipelineTrainingSummary.roc.select('TPR').collect())\n",
    "plt.title('0.05 reg')\n",
    "plt.xlabel('FPR (1-specificity)')\n",
    "plt.ylabel('TPR (sensitivity)')\n",
    "\n",
    "plt.show()"
   ]
  },
  {
   "cell_type": "markdown",
   "metadata": {},
   "source": [
    "## Predictions and Evaluations\n"
   ]
  },
  {
   "cell_type": "code",
   "execution_count": 11,
   "metadata": {},
   "outputs": [
    {
     "name": "stdout",
     "output_type": "stream",
     "text": [
      "+--------------------+-----+--------------------+--------------------+----------+\n",
      "|                 url|label|       rawPrediction|         probability|prediction|\n",
      "+--------------------+-----+--------------------+--------------------+----------+\n",
      "|http://all-that-i...|    1|[0.40222517551390...|[0.59922216484445...|       0.0|\n",
      "|http://amog.com/g...|    0|[0.14438550346510...|[0.53603379737031...|       0.0|\n",
      "|http://amysfinert...|    1|[0.43386124191009...|[0.60679531942690...|       0.0|\n",
      "|http://bakingblon...|    1|[-0.3974878223576...|[0.40191606692039...|       1.0|\n",
      "|http://bigblackdo...|    1|[0.70756063050975...|[0.66986192444600...|       0.0|\n",
      "+--------------------+-----+--------------------+--------------------+----------+\n",
      "only showing top 5 rows\n",
      "\n",
      "+-----+------------+-----------+------+-----------------+--------------+--------+\n",
      "|model|areaUnderROC|areaUnderPR|    f1|weightedPrecision|weightedRecall|accuracy|\n",
      "+-----+------------+-----------+------+-----------------+--------------+--------+\n",
      "|   LR|      0.8645|     0.5521|0.7462|           0.7491|         0.776|   0.776|\n",
      "|  SVM|      0.8854|     0.6533|0.8244|           0.8227|         0.827|   0.827|\n",
      "|   NB|      0.1328|     0.1457|0.7999|              0.8|        0.8131|  0.8131|\n",
      "+-----+------------+-----------+------+-----------------+--------------+--------+\n",
      "\n"
     ]
    }
   ],
   "source": [
    "from pyspark.ml.evaluation import BinaryClassificationEvaluator, MulticlassClassificationEvaluator\n",
    "\n",
    "# Predictions\n",
    "lr_predictions = lrModel.transform(testDfWithFeatures)\n",
    "lr_predictions.filter(f.col('url').isNotNull()) \\\n",
    "    .select('url', 'label', 'rawPrediction', 'probability', 'prediction') \\\n",
    "    .show(5)\n",
    "    \n",
    "svm_predictions = svmModel.transform(testDfWithFeatures)\n",
    "nb_predictions = nbModel.transform(testDfWithFeatures)\n",
    "\n",
    "# MulticlassClassificationEvaluator supports \"f1\" (default), \"precision\", \"recall\", \"weightedPrecision\", \"weightedRecall\"\n",
    "# BinaryClassificationEvaluator supports \"f1\" (default), \"weightedPrecision\", \"weightedRecall\", \"accuracy\"\n",
    "\n",
    "e1 = BinaryClassificationEvaluator(labelCol=\"label\", rawPredictionCol=\"rawPrediction\", metricName='areaUnderROC')\n",
    "e2 = BinaryClassificationEvaluator(labelCol=\"label\", rawPredictionCol=\"rawPrediction\", metricName='areaUnderPR')\n",
    "e3 = MulticlassClassificationEvaluator(labelCol=\"label\", predictionCol=\"prediction\", metricName='f1')\n",
    "e4 = MulticlassClassificationEvaluator(labelCol=\"label\", predictionCol=\"prediction\", metricName='weightedPrecision')\n",
    "e5 = MulticlassClassificationEvaluator(labelCol=\"label\", predictionCol=\"prediction\", metricName='weightedRecall')\n",
    "e6 = MulticlassClassificationEvaluator(labelCol=\"label\", predictionCol=\"prediction\", metricName='accuracy')\n",
    "\n",
    "metricList = []\n",
    "lr_metrics = ('LR', round(e1.evaluate(lr_predictions), 4), round(e2.evaluate(lr_predictions), 4),\n",
    "              round(e3.evaluate(lr_predictions), 4), round(e4.evaluate(lr_predictions), 4),\n",
    "              round(e5.evaluate(lr_predictions), 4), round(e6.evaluate(lr_predictions), 4))\n",
    "svm_metrics = ('SVM', round(e1.evaluate(svm_predictions), 4), round(e2.evaluate(svm_predictions), 4),\n",
    "              round(e3.evaluate(svm_predictions), 4), round(e4.evaluate(svm_predictions), 4),\n",
    "              round(e5.evaluate(svm_predictions), 4), round(e6.evaluate(svm_predictions), 4))\n",
    "nb_metrics = ('NB', round(e1.evaluate(nb_predictions), 4), round(e2.evaluate(nb_predictions), 4),\n",
    "              round(e3.evaluate(nb_predictions), 4), round(e4.evaluate(nb_predictions), 4),\n",
    "              round(e5.evaluate(nb_predictions), 4), round(e6.evaluate(nb_predictions), 4))\n",
    "\n",
    "metricList.append(lr_metrics)\n",
    "metricList.append(svm_metrics)\n",
    "metricList.append(nb_metrics)\n",
    "\n",
    "\n",
    "metricsDf = spark.createDataFrame(metricList , [\"model\", \"areaUnderROC\", \"areaUnderPR\", \"f1\", \"weightedPrecision\", \"weightedRecall\", \"accuracy\"])\n",
    "metricsDf.show()\n"
   ]
  },
  {
   "cell_type": "markdown",
   "metadata": {},
   "source": [
    "## Deep Diving "
   ]
  },
  {
   "cell_type": "code",
   "execution_count": 12,
   "metadata": {},
   "outputs": [],
   "source": [
    "# Calculating the statistics of each feature\n",
    "\n",
    "from pyspark.mllib.linalg.distributed import RowMatrix\n",
    "from pyspark.mllib.util import MLUtils\n",
    "\n",
    "def getSummaryStatistics(df, featureCol='features'):\n",
    "    mlVectorsDf = df.select(featureCol)\n",
    "    mllibVectorsDf = MLUtils.convertVectorColumnsFromML(mlVectorsDf)\n",
    "    mllibVectors = mllibVectorsDf.rdd.map(lambda x: x[featureCol])\n",
    "    matrix = RowMatrix(mllibVectors)\n",
    "    return matrix.computeColumnSummaryStatistics()\n",
    "    \n",
    "matrixSummary = getSummaryStatistics(trainDfWithFeatures)"
   ]
  },
  {
   "cell_type": "code",
   "execution_count": 13,
   "metadata": {},
   "outputs": [
    {
     "name": "stdout",
     "output_type": "stream",
     "text": [
      "[ 0.  0.  0.  0.  0.  0. -1.  0.  0.  0.  0. -1.  0.  0.  0.  0.  0.  0.\n",
      "  0.  0.  0.]\n",
      "\n",
      "[1.61538462e+02 1.00000000e+00 9.82905983e-01 9.48717949e-01\n",
      " 9.48717949e-01 2.10000000e+01 2.14285714e-01 0.00000000e+00\n",
      " 4.21052632e-01 1.00000000e+00 4.66850829e-01 1.70000000e+01\n",
      " 1.00000000e+00 1.00000000e+00 1.00000000e+02 1.00000000e+00\n",
      " 8.55990000e+04 3.28300000e+03 2.10000000e+01 1.00000000e+00\n",
      " 1.00000000e+00]\n",
      "\n",
      "[2537. 2507. 2433. 2227. 1918. 2525.  279.    0. 2537.   48. 2539. 2531.\n",
      " 2539. 1851. 2536.  149. 2537. 2539. 2357. 2410. 2520.]\n",
      "\n",
      "[6.03089179e+03 1.21520426e+03 5.64195669e+02 2.49309121e+02\n",
      " 1.40998615e+02 3.01703365e+03 1.40614366e+02 0.00000000e+00\n",
      " 1.46222001e+02 4.80000000e+01 5.88666980e+02 8.03024758e+02\n",
      " 2.53900000e+03 1.85100000e+03 7.58450000e+04 1.49000000e+02\n",
      " 1.51161120e+07 4.75855000e+05 1.35410000e+04 4.20016757e+02\n",
      " 2.45817719e+02]\n",
      "\n",
      "[2.26916972e+02 2.57887018e+01 1.31342858e+01 6.79036148e+00\n",
      " 4.66925543e+00 1.95134255e+02 1.17941145e+01 0.00000000e+00\n",
      " 3.52185893e+00 6.92820323e+00 1.18817731e+01 4.30630871e+01\n",
      " 5.03884907e+01 4.30232495e+01 1.78999972e+03 1.22065556e+01\n",
      " 4.77304419e+05 1.23338380e+04 3.14872990e+02 1.16934662e+01\n",
      " 5.58539848e+00]\n",
      "\n",
      "[ 1.16923067e+00  2.35596018e-01  1.09382642e-01  4.83344555e-02\n",
      "  2.73359084e-02  5.84923159e-01 -2.66354467e-02  0.00000000e+00\n",
      "  2.83485848e-02  9.30593253e-03  1.14126983e-01  1.14584094e-01\n",
      "  4.92245056e-01  3.58860023e-01  1.47043428e+01  2.88871656e-02\n",
      "  2.93061497e+03  9.22557193e+01  2.62524234e+00  8.14301583e-02\n",
      "  4.76575647e-02]\n",
      "\n",
      "[8.61737612e+00 7.34457737e-02 2.14846324e-02 6.60438015e-03\n",
      " 3.48024453e-03 7.04142804e+00 2.62636823e-02 0.00000000e+00\n",
      " 1.60137745e-03 9.22111988e-03 1.43482149e-02 3.46462562e-01\n",
      " 2.49988327e-01 2.30124122e-01 4.05051022e+02 2.80581370e-02\n",
      " 3.55865822e+07 2.09856920e+04 1.23320910e+01 1.98827071e-02\n",
      " 3.77770066e-03]\n"
     ]
    }
   ],
   "source": [
    "print(matrixSummary.min())\n",
    "print()\n",
    "print(matrixSummary.max())\n",
    "print()\n",
    "print(matrixSummary.numNonzeros())\n",
    "print()\n",
    "print(matrixSummary.normL1())\n",
    "print()\n",
    "print(matrixSummary.normL2())\n",
    "print()\n",
    "print(matrixSummary.mean())\n",
    "print()\n",
    "print(matrixSummary.variance())"
   ]
  },
  {
   "cell_type": "markdown",
   "metadata": {},
   "source": [
    "### Improving Perfomance\n",
    "\n",
    "### 1. Scaling features"
   ]
  },
  {
   "cell_type": "code",
   "execution_count": 14,
   "metadata": {},
   "outputs": [
    {
     "name": "stdout",
     "output_type": "stream",
     "text": [
      "[1.169230668793525,0.23559601815199696,0.10938264233152387,0.04833445546103142,0.02733590837999226,0.5849231587332302,-0.02663544668514928,0.0,0.028348584828809614,0.009305932531989143,0.11412698334839082,0.11458409426250488,0.49224505622334236,0.35886002326483135,14.704342768514929,0.02888716556804963,2930.6149670414893,92.25571927103528,2.6252423419930198,0.08143015833830944,0.04765756473827065]\n",
      "\n",
      "[2.9355367690238237,0.271008807331991,0.14657637043476918,0.08126733753517384,0.058993597405134386,2.6535689259634827,0.16206073640594068,0.0,0.04001721443741128,0.09602666235663687,0.11978403456868156,0.588610704965402,0.49998832684627265,0.4797125409637338,20.12587942028342,0.1675056326377111,5965.449036035481,144.8643918017022,3.5117077086568362,0.14100605352473833,0.06146300236247719]\n"
     ]
    }
   ],
   "source": [
    "from pyspark.ml.feature import StandardScaler\n",
    "scaler = StandardScaler(inputCol=\"features\", outputCol=\"scaledFeatures\", withStd=True, withMean=True)\n",
    "\n",
    "# Compute summary statistics by fitting the StandardScaler\n",
    "scalerTrainModel = scaler.fit(trainDfWithFeatures)\n",
    "\n",
    "# This will give us the same mean / std we calculated just now\n",
    "print(scalerTrainModel.mean)\n",
    "print()\n",
    "print(scalerTrainModel.std)\n",
    "\n",
    "# Normalize each feature to have unit standard deviation.\n",
    "scaledTrainDf = scalerTrainModel.transform(trainDfWithFeatures)\n",
    "scaledTestDf = scaler.fit(testDfWithFeatures).transform(testDfWithFeatures)"
   ]
  },
  {
   "cell_type": "code",
   "execution_count": 15,
   "metadata": {},
   "outputs": [
    {
     "name": "stdout",
     "output_type": "stream",
     "text": [
      "[ 1.16923067e+00  2.35596018e-01  1.09382642e-01  4.83344555e-02\n",
      "  2.73359084e-02  5.84923159e-01 -2.66354467e-02  0.00000000e+00\n",
      "  2.83485848e-02  9.30593253e-03  1.14126983e-01  1.14584094e-01\n",
      "  4.92245056e-01  3.58860023e-01  1.47043428e+01  2.88871656e-02\n",
      "  2.93061497e+03  9.22557193e+01  2.62524234e+00  8.14301583e-02\n",
      "  4.76575647e-02]\n",
      "\n",
      "[-7.80625564e-17 -1.66533454e-16 -1.76941795e-16 -2.12503626e-16\n",
      " -3.06503954e-16 -7.11236625e-17 -3.29597460e-17  0.00000000e+00\n",
      "  6.11490025e-17 -7.29125961e-18  1.07552856e-16 -1.73472348e-18\n",
      "  1.19695920e-16 -9.02056208e-17  7.63278329e-17 -3.46944695e-17\n",
      " -1.35308431e-16  1.24900090e-16  2.53269627e-16 -2.84494650e-16\n",
      " -8.76035355e-17]\n"
     ]
    }
   ],
   "source": [
    "# Checking if scaling works as expected\n",
    "print(getSummaryStatistics(scaledTrainDf, 'features').mean())\n",
    "print()\n",
    "print(getSummaryStatistics(scaledTrainDf, 'scaledFeatures').mean())"
   ]
  },
  {
   "cell_type": "code",
   "execution_count": 16,
   "metadata": {},
   "outputs": [
    {
     "name": "stdout",
     "output_type": "stream",
     "text": [
      "objectiveHistory/ loss:\n",
      "0.5643495366101975\n",
      "0.43493253400060183\n",
      "0.43182657253111995\n",
      "0.4234388343756333\n",
      "0.42237157802034514\n",
      "0.4218578729605106\n",
      "0.4217750274609304\n",
      "0.4217743979997023\n",
      "0.42177438396009337\n",
      "0.4217743800828304\n",
      "0.42177438004496726\n",
      "+-------------------+-------------------+------------------+--------------------+\n",
      "|          threshold|          F-Measure|         precision|              recall|\n",
      "+-------------------+-------------------+------------------+--------------------+\n",
      "| 0.3900134570944282| 0.5969756738987508|0.5209409064830751|  0.6989992301770592|\n",
      "| 0.3470502632757034| 0.6462726462726462|0.5261121856866537|  0.8375673595073133|\n",
      "| 0.5561403207237344|0.22922983626440266|              0.54| 0.14549653579676675|\n",
      "|0.37876383821673365| 0.6136218968809675| 0.523060227889311|  0.7421093148575828|\n",
      "| 0.3678467092096591| 0.6210755362138638|0.5208550573514077|    0.76905311778291|\n",
      "|0.49536211326898455|0.37837837837837834|0.5230978260869565|  0.2963818321785989|\n",
      "|0.44423806033661756| 0.4966229638458482| 0.513136288998358|   0.481139337952271|\n",
      "| 0.5664386854628395|0.20512820512820512|0.5466666666666666|  0.1262509622786759|\n",
      "| 0.5860847386313937|0.16272965879265092|0.5511111111111111| 0.09545804464973057|\n",
      "|0.31453248610855045| 0.6619678601635184|0.5222419928825622|  0.9037721324095458|\n",
      "|  0.928374379303957|0.02719033232628399|              0.72|0.013856812933025405|\n",
      "|0.41243300854314113| 0.5592920353982301|0.5176933158584535|  0.6081601231716706|\n",
      "|0.44061650310988537| 0.5051140833988985|0.5164923572003218|  0.4942263279445728|\n",
      "|  0.468243157382116| 0.4402293780326422| 0.515495867768595| 0.38414164742109314|\n",
      "| 0.3961001100978947| 0.5915775401069517| 0.522740696987596|  0.6812933025404158|\n",
      "|0.32978416844241565| 0.6532258064516129|0.5218591808559595|  0.8729792147806005|\n",
      "|0.30510017375041143| 0.6644425910480957| 0.520017406440383|  0.9199384141647421|\n",
      "|0.45078224797488214|0.48648648648648646|0.5196850393700787| 0.45727482678983833|\n",
      "| 0.2265753610873102|0.40235403438129164|0.2518417991469562|                 1.0|\n",
      "|0.38417454477675894| 0.6047865459249677|0.5214723926380368|  0.7197844495765974|\n",
      "+-------------------+-------------------+------------------+--------------------+\n",
      "only showing top 20 rows\n",
      "\n",
      "bestThreshold: 0.26319792208957654\n",
      "roc\n",
      "+--------------------+--------------------+\n",
      "|                 FPR|                 TPR|\n",
      "+--------------------+--------------------+\n",
      "|                 0.0|                 0.0|\n",
      "|0.001813941435605079|0.013856812933025405|\n",
      "|0.005182689816014512|0.023094688221709007|\n",
      "|0.008033169214822493| 0.03387220939183987|\n",
      "|0.010624514122829748| 0.04541955350269438|\n",
      "|0.014770665975641358| 0.05234795996920708|\n",
      "| 0.01891681782845297|0.059276366435719784|\n",
      "|0.021508162736460223| 0.07082371054657428|\n",
      "| 0.02280383519046385| 0.08622016936104696|\n",
      "|0.026172583570873282| 0.09545804464973057|\n",
      "| 0.02824565949727909| 0.10854503464203233|\n",
      "|0.031873542368489244|  0.1170130869899923|\n",
      "| 0.03524229074889868|  0.1262509622786759|\n",
      "| 0.03809277014770666| 0.13702848344880678|\n",
      "|0.041720653018916816| 0.14549653579676675|\n",
      "|0.043534594454521895| 0.14857582755966128|\n",
      "|0.046903342834931326|  0.1578137028483449|\n",
      "| 0.05079036019694221| 0.16551193225558122|\n",
      "| 0.05415910857735164|  0.1747498075442648|\n",
      "| 0.05726872246696035| 0.18475750577367206|\n",
      "+--------------------+--------------------+\n",
      "only showing top 20 rows\n",
      "\n",
      "areaUnderROC: 0.8437875847249096\n"
     ]
    },
    {
     "data": {
      "text/plain": [
       "LogisticRegression_d6e241ec4493"
      ]
     },
     "execution_count": 16,
     "metadata": {},
     "output_type": "execute_result"
    }
   ],
   "source": [
    "# Re-train using scaledFeatures\n",
    "from pyspark.ml.classification import LogisticRegression\n",
    "scaled_lr = LogisticRegression(maxIter=10, regParam=0.3, elasticNetParam=0.0, featuresCol='scaledFeatures', labelCol='label')\n",
    "scaled_lr_model = scaled_lr.fit(scaledTrainDf)\n",
    "\n",
    "scaledTrainingSummary = scaled_lr_model.summary\n",
    "\n",
    "print(\"objectiveHistory/ loss:\")\n",
    "for objective in scaledTrainingSummary.objectiveHistory:\n",
    "    print(objective)\n",
    "\n",
    "scaledTrainingSummary.fMeasureByThreshold \\\n",
    "    .join(scaledTrainingSummary.precisionByThreshold, 'threshold', 'left') \\\n",
    "    .join(scaledTrainingSummary.recallByThreshold, 'threshold', 'left') \\\n",
    "    .show()\n",
    "\n",
    "# Finding best threshold\n",
    "fMeasure = scaledTrainingSummary.fMeasureByThreshold\n",
    "maxFMeasure = fMeasure.groupBy().max('F-Measure').select('max(F-Measure)').head()\n",
    "bestThreshold = fMeasure.where(fMeasure['F-Measure'] == maxFMeasure['max(F-Measure)']) \\\n",
    "    .select('threshold').head()['threshold']\n",
    "print(\"bestThreshold: \" + str(bestThreshold))\n",
    "\n",
    "print(\"roc\")\n",
    "scaledTrainingSummary.roc.show()\n",
    "print(\"areaUnderROC: \" + str(scaledTrainingSummary.areaUnderROC))\n",
    "\n",
    "# Set the model threshold to maximize F-Measure\n",
    "scaled_lr.setThreshold(bestThreshold)"
   ]
  },
  {
   "cell_type": "code",
   "execution_count": 17,
   "metadata": {},
   "outputs": [
    {
     "name": "stdout",
     "output_type": "stream",
     "text": [
      "+-----+------------+-----------+------+-----------------+--------------+--------+\n",
      "|model|areaUnderROC|areaUnderPR|    f1|weightedPrecision|weightedRecall|accuracy|\n",
      "+-----+------------+-----------+------+-----------------+--------------+--------+\n",
      "|   LR|      0.8645|     0.5521|0.7462|           0.7491|         0.776|   0.776|\n",
      "|  SVM|      0.8854|     0.6533|0.8244|           0.8227|         0.827|   0.827|\n",
      "|   NB|      0.1328|     0.1457|0.7999|              0.8|        0.8131|  0.8131|\n",
      "+-----+------------+-----------+------+-----------------+--------------+--------+\n",
      "\n",
      "+-----+------------+-----------+------+-----------------+--------------+--------+\n",
      "|model|areaUnderROC|areaUnderPR|    f1|weightedPrecision|weightedRecall|accuracy|\n",
      "+-----+------------+-----------+------+-----------------+--------------+--------+\n",
      "|   LR|      0.8643|     0.5511|0.7598|           0.7564|        0.7778|  0.7778|\n",
      "+-----+------------+-----------+------+-----------------+--------------+--------+\n",
      "\n"
     ]
    }
   ],
   "source": [
    "from pyspark.ml.evaluation import BinaryClassificationEvaluator, MulticlassClassificationEvaluator\n",
    "\n",
    "# Predictions\n",
    "scaled_lr_predictions = scaled_lr_model.transform(scaledTestDf)\n",
    "\n",
    "e1 = BinaryClassificationEvaluator(labelCol=\"label\", rawPredictionCol=\"rawPrediction\", metricName='areaUnderROC')\n",
    "e2 = BinaryClassificationEvaluator(labelCol=\"label\", rawPredictionCol=\"rawPrediction\", metricName='areaUnderPR')\n",
    "e3 = MulticlassClassificationEvaluator(labelCol=\"label\", predictionCol=\"prediction\", metricName='f1')\n",
    "e4 = MulticlassClassificationEvaluator(labelCol=\"label\", predictionCol=\"prediction\", metricName='weightedPrecision')\n",
    "e5 = MulticlassClassificationEvaluator(labelCol=\"label\", predictionCol=\"prediction\", metricName='weightedRecall')\n",
    "e6 = MulticlassClassificationEvaluator(labelCol=\"label\", predictionCol=\"prediction\", metricName='accuracy')\n",
    "\n",
    "scaledMetricList = []\n",
    "scaled_lr_metrics = ('LR', round(e1.evaluate(scaled_lr_predictions), 4), round(e2.evaluate(scaled_lr_predictions), 4),\n",
    "              round(e3.evaluate(scaled_lr_predictions), 4), round(e4.evaluate(scaled_lr_predictions), 4),\n",
    "              round(e5.evaluate(scaled_lr_predictions), 4), round(e6.evaluate(scaled_lr_predictions), 4))\n",
    "\n",
    "scaledMetricList.append(scaled_lr_metrics)\n",
    "scaledMetricsDf = spark.createDataFrame(scaledMetricList , [\"model\", \"areaUnderROC\", \"areaUnderPR\", \"f1\", \"weightedPrecision\", \"weightedRecall\", \"accuracy\"])\n",
    "\n",
    "metricsDf.show()\n",
    "scaledMetricsDf.show()"
   ]
  },
  {
   "cell_type": "markdown",
   "metadata": {},
   "source": [
    "### 2. New Features\n",
    "\n",
    "#### Re-train"
   ]
  },
  {
   "cell_type": "code",
   "execution_count": 18,
   "metadata": {},
   "outputs": [
    {
     "data": {
      "text/plain": [
       "LogisticRegression_d6e241ec4493"
      ]
     },
     "execution_count": 18,
     "metadata": {},
     "output_type": "execute_result"
    }
   ],
   "source": [
    "from pyspark.ml.feature import VectorAssembler, StringIndexer, OneHotEncoderEstimator\n",
    "from pyspark.ml import Pipeline\n",
    "\n",
    "indexer = StringIndexer(inputCol=\"alchemy_category\", outputCol=\"alchemy_category_idx\", handleInvalid=\"keep\")\n",
    "encoder = OneHotEncoderEstimator(inputCols=[\"alchemy_category_idx\"],outputCols=[\"alchemy_category_onehot_vec\"])\n",
    "vec_assembler_2 = VectorAssembler(inputCols = feature_cols + ['alchemy_category_onehot_vec'], outputCol=\"features\")\n",
    "\n",
    "# Reuse scaler and scaled_lr\n",
    "pipeline_2 = Pipeline(stages = [indexer, encoder, vec_assembler_2, scaler, scaled_lr])\n",
    "scaled_lr_model_2 = pipeline_2.fit(trainingDf)\n",
    "\n",
    "# Finding best threshold\n",
    "\n",
    "scaledTrainingSummary_2 = scaled_lr_model_2.stages[-1].summary\n",
    "fMeasure = scaledTrainingSummary_2.fMeasureByThreshold\n",
    "maxFMeasure = fMeasure.groupBy().max('F-Measure').select('max(F-Measure)').head()\n",
    "bestThreshold = fMeasure.where(fMeasure['F-Measure'] == maxFMeasure['max(F-Measure)']).select('threshold').head()['threshold']\n",
    "pipeline_2.getStages()[-1].setThreshold(bestThreshold)"
   ]
  },
  {
   "cell_type": "markdown",
   "metadata": {},
   "source": [
    "#### Prepare test set"
   ]
  },
  {
   "cell_type": "code",
   "execution_count": 19,
   "metadata": {},
   "outputs": [
    {
     "name": "stdout",
     "output_type": "stream",
     "text": [
      "+-----+------------+-----------+------+-----------------+--------------+--------+\n",
      "|model|areaUnderROC|areaUnderPR|    f1|weightedPrecision|weightedRecall|accuracy|\n",
      "+-----+------------+-----------+------+-----------------+--------------+--------+\n",
      "|   LR|      0.8645|     0.5521|0.7462|           0.7491|         0.776|   0.776|\n",
      "|  SVM|      0.8854|     0.6533|0.8244|           0.8227|         0.827|   0.827|\n",
      "|   NB|      0.1328|     0.1457|0.7999|              0.8|        0.8131|  0.8131|\n",
      "+-----+------------+-----------+------+-----------------+--------------+--------+\n",
      "\n",
      "+-----+------------+-----------+------+-----------------+--------------+--------+\n",
      "|model|areaUnderROC|areaUnderPR|    f1|weightedPrecision|weightedRecall|accuracy|\n",
      "+-----+------------+-----------+------+-----------------+--------------+--------+\n",
      "|   LR|      0.8643|     0.5511|0.7598|           0.7564|        0.7778|  0.7778|\n",
      "+-----+------------+-----------+------+-----------------+--------------+--------+\n",
      "\n",
      "+-----+------------+-----------+------+-----------------+--------------+--------+\n",
      "|model|areaUnderROC|areaUnderPR|    f1|weightedPrecision|weightedRecall|accuracy|\n",
      "+-----+------------+-----------+------+-----------------+--------------+--------+\n",
      "|   LR|       0.901|     0.6511|0.8101|           0.8727|        0.7966|  0.7966|\n",
      "+-----+------------+-----------+------+-----------------+--------------+--------+\n",
      "\n"
     ]
    }
   ],
   "source": [
    "from pyspark.ml.evaluation import BinaryClassificationEvaluator, MulticlassClassificationEvaluator\n",
    "\n",
    "# Predictions\n",
    "scaled_lr_predictions_2 = scaled_lr_model_2.transform(testDf)\n",
    "\n",
    "e1 = BinaryClassificationEvaluator(labelCol=\"label\", rawPredictionCol=\"rawPrediction\", metricName='areaUnderROC')\n",
    "e2 = BinaryClassificationEvaluator(labelCol=\"label\", rawPredictionCol=\"rawPrediction\", metricName='areaUnderPR')\n",
    "e3 = MulticlassClassificationEvaluator(labelCol=\"label\", predictionCol=\"prediction\", metricName='f1')\n",
    "e4 = MulticlassClassificationEvaluator(labelCol=\"label\", predictionCol=\"prediction\", metricName='weightedPrecision')\n",
    "e5 = MulticlassClassificationEvaluator(labelCol=\"label\", predictionCol=\"prediction\", metricName='weightedRecall')\n",
    "e6 = MulticlassClassificationEvaluator(labelCol=\"label\", predictionCol=\"prediction\", metricName='accuracy')\n",
    "\n",
    "scaledMetricList2 = []\n",
    "scaled_lr_metrics_2 = ('LR', round(e1.evaluate(scaled_lr_predictions_2), 4), round(e2.evaluate(scaled_lr_predictions_2), 4),\n",
    "              round(e3.evaluate(scaled_lr_predictions_2), 4), round(e4.evaluate(scaled_lr_predictions_2), 4),\n",
    "              round(e5.evaluate(scaled_lr_predictions_2), 4), round(e6.evaluate(scaled_lr_predictions_2), 4))\n",
    "\n",
    "scaledMetricList2.append(scaled_lr_metrics_2)\n",
    "scaledMetricsDf2 = spark.createDataFrame(scaledMetricList2 , [\"model\", \"areaUnderROC\", \"areaUnderPR\", \"f1\", \"weightedPrecision\", \"weightedRecall\", \"accuracy\"])\n",
    "\n",
    "metricsDf.show()\n",
    "scaledMetricsDf.show()\n",
    "scaledMetricsDf2.show()"
   ]
  },
  {
   "cell_type": "code",
   "execution_count": null,
   "metadata": {},
   "outputs": [],
   "source": []
  }
 ],
 "metadata": {
  "kernelspec": {
   "display_name": "Python 3",
   "language": "python",
   "name": "python3"
  },
  "language_info": {
   "codemirror_mode": {
    "name": "ipython",
    "version": 3
   },
   "file_extension": ".py",
   "mimetype": "text/x-python",
   "name": "python",
   "nbconvert_exporter": "python",
   "pygments_lexer": "ipython3",
   "version": "3.6.4"
  },
  "varInspector": {
   "cols": {
    "lenName": 16,
    "lenType": 16,
    "lenVar": 40
   },
   "kernels_config": {
    "python": {
     "delete_cmd_postfix": "",
     "delete_cmd_prefix": "del ",
     "library": "var_list.py",
     "varRefreshCmd": "print(var_dic_list())"
    },
    "r": {
     "delete_cmd_postfix": ") ",
     "delete_cmd_prefix": "rm(",
     "library": "var_list.r",
     "varRefreshCmd": "cat(var_dic_list()) "
    }
   },
   "types_to_exclude": [
    "module",
    "function",
    "builtin_function_or_method",
    "instance",
    "_Feature"
   ],
   "window_display": false
  }
 },
 "nbformat": 4,
 "nbformat_minor": 2
}
